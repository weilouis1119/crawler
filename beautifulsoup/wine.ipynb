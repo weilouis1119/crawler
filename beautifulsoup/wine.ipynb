{
 "cells": [
  {
   "cell_type": "markdown",
   "metadata": {},
   "source": [
    "# 酒類產品更新"
   ]
  },
  {
   "cell_type": "markdown",
   "metadata": {},
   "source": [
    "程式說明：過去實習時需要定期更新該網站的酒的品項，去該網站爬蟲，並把新增的品牌名稱存到excel中"
   ]
  },
  {
   "cell_type": "code",
   "execution_count": 1,
   "metadata": {},
   "outputs": [
    {
     "name": "stderr",
     "output_type": "stream",
     "text": [
      "Bad val 'Flase' on line #329\n",
      "\t\"axes.unicode_minus  : Flase    ## use unicode for the minus symbol\n",
      "\"\n",
      "\tin file \"/Users/louis/opt/anaconda3/lib/python3.7/site-packages/matplotlib/mpl-data/matplotlibrc\"\n",
      "\tKey axes.unicode_minus: Could not convert \"flase\" to boolean\n"
     ]
    }
   ],
   "source": [
    "import requests\n",
    "from bs4 import BeautifulSoup\n",
    "import pandas as pd"
   ]
  },
  {
   "cell_type": "code",
   "execution_count": 5,
   "metadata": {
    "scrolled": true
   },
   "outputs": [],
   "source": [
    "n=[]\n",
    "for j in range(1,184):\n",
    "    url='https://www.p9.com.tw/Wine/SearchResult.aspx?WineTypeId=1&CountryId=0&PriceLevel=0&BrandId=0&Keyword=&page=%s' % str(j)\n",
    "    res=requests.get(url)\n",
    "    bs=BeautifulSoup(res.text,'lxml')\n",
    "\n",
    "    count=0\n",
    "    for i in bs.find_all('a',attrs={'class':'a11'}):\n",
    "        n.append(i.text.replace('\\r',''))\n",
    "        count+=1\n",
    "    "
   ]
  },
  {
   "cell_type": "code",
   "execution_count": 8,
   "metadata": {},
   "outputs": [
    {
     "data": {
      "text/html": [
       "<div>\n",
       "<style scoped>\n",
       "    .dataframe tbody tr th:only-of-type {\n",
       "        vertical-align: middle;\n",
       "    }\n",
       "\n",
       "    .dataframe tbody tr th {\n",
       "        vertical-align: top;\n",
       "    }\n",
       "\n",
       "    .dataframe thead th {\n",
       "        text-align: right;\n",
       "    }\n",
       "</style>\n",
       "<table border=\"1\" class=\"dataframe\">\n",
       "  <thead>\n",
       "    <tr style=\"text-align: right;\">\n",
       "      <th></th>\n",
       "      <th>0</th>\n",
       "    </tr>\n",
       "  </thead>\n",
       "  <tbody>\n",
       "    <tr>\n",
       "      <td>0</td>\n",
       "      <td>蘇格蘭 約翰走路藍牌 調和威士忌 750ml</td>\n",
       "    </tr>\n",
       "    <tr>\n",
       "      <td>1</td>\n",
       "      <td>日本 三得利 角瓶 調和威士忌700ml</td>\n",
       "    </tr>\n",
       "    <tr>\n",
       "      <td>2</td>\n",
       "      <td>日本 山崎10年 單一純麥威士忌 700ml(停產)</td>\n",
       "    </tr>\n",
       "    <tr>\n",
       "      <td>3</td>\n",
       "      <td>蘇格蘭 Glen Grant格蘭冠 單一純麥蘇格蘭威士忌 700ml</td>\n",
       "    </tr>\n",
       "    <tr>\n",
       "      <td>4</td>\n",
       "      <td>蘇格蘭 布萊迪 波夏系列 第二代波夏10年單一純麥威士忌 700ml</td>\n",
       "    </tr>\n",
       "    <tr>\n",
       "      <td>...</td>\n",
       "      <td>...</td>\n",
       "    </tr>\n",
       "    <tr>\n",
       "      <td>1820</td>\n",
       "      <td>蘇格蘭 格蘭路思1998年單一麥芽威士忌 700ml</td>\n",
       "    </tr>\n",
       "    <tr>\n",
       "      <td>1821</td>\n",
       "      <td>蘇格蘭 格蘭路思2001年 單一純麥威士忌 700ml</td>\n",
       "    </tr>\n",
       "    <tr>\n",
       "      <td>1822</td>\n",
       "      <td>蘇格蘭 格蘭菲迪 125周年紀念珍稀酒款 700ml (2013年12月25日正式發行)</td>\n",
       "    </tr>\n",
       "    <tr>\n",
       "      <td>1823</td>\n",
       "      <td>蘇格蘭 格蘭菲迪21年 單一純麥威士忌 700ml(舊包裝)</td>\n",
       "    </tr>\n",
       "    <tr>\n",
       "      <td>1824</td>\n",
       "      <td>蘇格蘭 格蘭菲迪40年 單一純麥威士忌 700ml (舊包裝)</td>\n",
       "    </tr>\n",
       "  </tbody>\n",
       "</table>\n",
       "<p>1825 rows × 1 columns</p>\n",
       "</div>"
      ],
      "text/plain": [
       "                                                 0\n",
       "0                           蘇格蘭 約翰走路藍牌 調和威士忌 750ml\n",
       "1                             日本 三得利 角瓶 調和威士忌700ml\n",
       "2                       日本 山崎10年 單一純麥威士忌 700ml(停產)\n",
       "3               蘇格蘭 Glen Grant格蘭冠 單一純麥蘇格蘭威士忌 700ml\n",
       "4               蘇格蘭 布萊迪 波夏系列 第二代波夏10年單一純麥威士忌 700ml\n",
       "...                                            ...\n",
       "1820                    蘇格蘭 格蘭路思1998年單一麥芽威士忌 700ml\n",
       "1821                   蘇格蘭 格蘭路思2001年 單一純麥威士忌 700ml\n",
       "1822  蘇格蘭 格蘭菲迪 125周年紀念珍稀酒款 700ml (2013年12月25日正式發行)\n",
       "1823                蘇格蘭 格蘭菲迪21年 單一純麥威士忌 700ml(舊包裝)\n",
       "1824               蘇格蘭 格蘭菲迪40年 單一純麥威士忌 700ml (舊包裝)\n",
       "\n",
       "[1825 rows x 1 columns]"
      ]
     },
     "execution_count": 8,
     "metadata": {},
     "output_type": "execute_result"
    }
   ],
   "source": [
    "w=pd.DataFrame(n)"
   ]
  },
  {
   "cell_type": "code",
   "execution_count": 8,
   "metadata": {},
   "outputs": [],
   "source": [
    "a=[]\n",
    "url='https://www.p9.com.tw/Wine/WineCountry.aspx?WineTypeId=1'\n",
    "res=requests.get(url)\n",
    "bs=BeautifulSoup(res.text,'lxml')\n",
    "for i in bs.find(id='AZMenu').find_all('a',attrs={'class':'a9'}):\n",
    "    a.append(i.text.replace('(單一純麥威士忌 Single Malt Whisky)',''))"
   ]
  },
  {
   "cell_type": "code",
   "execution_count": 7,
   "metadata": {},
   "outputs": [
    {
     "data": {
      "text/plain": [
       "0                     Aberlour\n",
       "1                  A.D Rattray\n",
       "2                    Aberfeldy\n",
       "3                       Akashi\n",
       "4                     All Malt\n",
       "                ...           \n",
       "161                   Yamazaki\n",
       "162                     Yoichi\n",
       "163                 Richardson\n",
       "164    William Sanderson & Son\n",
       "165                      KOSHU\n",
       "Name: 品牌名稱, Length: 166, dtype: object"
      ]
     },
     "execution_count": 7,
     "metadata": {},
     "output_type": "execute_result"
    }
   ],
   "source": [
    "df=pd.read_excel('/Users/louis/Library/Containers/com.microsoft.Excel/Data/Desktop/亞洲指標/威士忌.xlsx',sheet_name='品牌')\n",
    "df['品牌名稱']"
   ]
  },
  {
   "cell_type": "code",
   "execution_count": 29,
   "metadata": {},
   "outputs": [],
   "source": [
    "for i in a:\n",
    "    for j in df['品牌名稱']:\n",
    "        if j in i:\n",
    "            a.remove(i)"
   ]
  },
  {
   "cell_type": "code",
   "execution_count": 35,
   "metadata": {},
   "outputs": [],
   "source": [
    "writer = pd.ExcelWriter('/Users/louis/Library/Containers/com.microsoft.Excel/Data/Desktop/wine.xlsx')\n",
    "pd.DataFrame(a).to_excel(writer)\n",
    "writer.save()"
   ]
  }
 ],
 "metadata": {
  "kernelspec": {
   "display_name": "Python 3",
   "language": "python",
   "name": "python3"
  },
  "language_info": {
   "codemirror_mode": {
    "name": "ipython",
    "version": 3
   },
   "file_extension": ".py",
   "mimetype": "text/x-python",
   "name": "python",
   "nbconvert_exporter": "python",
   "pygments_lexer": "ipython3",
   "version": "3.8.8"
  }
 },
 "nbformat": 4,
 "nbformat_minor": 2
}
