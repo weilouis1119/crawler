{
 "cells": [
  {
   "cell_type": "code",
   "execution_count": 1,
   "id": "02788384-fc2b-492c-a0e3-129262e1b158",
   "metadata": {},
   "outputs": [],
   "source": [
    "import requests\n",
    "from bs4 import BeautifulSoup\n",
    "from selenium import webdriver\n",
    "import time\n",
    "import random\n",
    "import pandas as pd\n",
    "from selenium.webdriver.common.action_chains import ActionChains\n",
    "from selenium.webdriver.common.keys import Keys\n",
    "import re\n",
    "from pymouse import PyMouse\n",
    "import sys"
   ]
  },
  {
   "cell_type": "code",
   "execution_count": 13,
   "id": "f7352fa6-7a77-42b2-ad07-72bd1aa681cd",
   "metadata": {},
   "outputs": [],
   "source": [
    "# 取得房屋資料網址 \n",
    "def get_url(zipcode):\n",
    "    streetUrl = []\n",
    "    page = 9\n",
    "    for i in range(1,10):\n",
    "        if i > int(page):\n",
    "            break\n",
    "\n",
    "        driver = webdriver.Chrome('./chromedriver')\n",
    "        driver.implicitly_wait(10)\n",
    "        driver.get('https://www.realtor.com/propertyrecord-search/%s/pg-%s' % (zipcode ,str(i)))\n",
    "        bs = BeautifulSoup(driver.page_source, 'html.parser')\n",
    "\n",
    "        if i == 1:\n",
    "            try:\n",
    "                page = bs.find('div', class_ = 'rui__sc-19wd2g3-0 bZiNUU').find_all('a')[-2].text\n",
    "                print(page)\n",
    "            except:\n",
    "                page = 1\n",
    "\n",
    "        for i in bs.find('div', class_ = 'styles__CityListingsStyle-sc-1yhl5eb-2 dVMPWH property-records-content').find_all('li', class_ = 'list-column-item'):\n",
    "            url = 'https://www.realtor.com/' + i.find('a')['href']\n",
    "            streetUrl.append(url)\n",
    "\n",
    "        time.sleep(3)\n",
    "        driver.close()\n",
    "        \n",
    "    time.sleep(10)\n",
    "    \n",
    "    urls = []\n",
    "    page=9\n",
    "    for zipcodeUrl in streetUrl: \n",
    "        for i in range(1,9):\n",
    "            if i > int(page):\n",
    "                break\n",
    "\n",
    "            headers = {'user-agent' : 'Mozilla/5.0 (X11; Linux x86_64) AppleWebKit/537.36 (KHTML, like Gecko) Chrome/91.0.4472.114 Safari/537.36'}\n",
    "            cookies = {'cookie': 'threshold_value=40; automation=false; clstr=; clstr_tcv=; split=n; split_tcv=194; __vst=eddd0c98-d93a-4277-9b4c-16f2a9154a52; __ssn=cc1241c2-0a13-4652-b517-4a6d2a05dadf; __ssnstarttime=1625931673; __edwssnstarttime=1625931673; __split=80; bcc=false; bcvariation=SRPBCRR%3Av1%3Adesktop; header_slugs=; criteria=loc%3D110th+Ave+SE%2C+98006%26locSlug%3D98006%2F110th-Ave-SE%26status%3D8%26pg%3D1%26pgsz%3D44%26sprefix%3Dpropertyrecord-search; _rdc-next_session=SEZzUVpveSs0cDZxY3FBdUZzb1BmNkNCWkhhanNnTUlKck5sUkpnckxTclc4Q2d2RnhNMFZyaU55ZnBpVmtyUlMxY3ZJMDA2RmJsWWh3UGV4SUxOYnR4U1dsd1dnWEE5TWppM3dHUVdzQjhSTlo4YW0zZHZzcmpPcUwyZ3JQbEdxSkRRWTB5SHo3bzJ5d0dxb0lkb2Vzbml1bGdXU1EwV1JnWi80by8wMDJzU3R3VlBOZlM2VnJBTFBiZTFvbmJZcDU0Q1ZNTDF2UFRCQnZlMnJ6c0krRUxpZkhMZDFtb05KSXpYdXUwRDA2bjRqbndXbnZ4aTF6aWkvejRLdXhBcS0tZ08xRnY3czFQUzVHMDRHTGc3TVl4QT09--f37738dae63a1961861fdac9f85db985d2a84e24; AMCVS_8853394255142B6A0A4C98A4%40AdobeOrg=1; s_ecid=MCMID%7C02366094880149816592795432562425202192; userStatus=new_user; pxcts=45823530-e195-11eb-a378-8b717057deba; _pxvid=4581f7f5-e195-11eb-be0c-0242ac120019; _pxff_bdd=2000; _pxff_cde=5,10; ajs_anonymous_id=%22ec20c98f-f1e6-4a13-aaf3-0151435691c1%22; AMCV_8853394255142B6A0A4C98A4%40AdobeOrg=-1124106680%7CMCIDTS%7C18819%7CMCMID%7C02366094880149816592795432562425202192%7CMCAAMLH-1626536479%7C11%7CMCAAMB-1626536479%7C6G1ynYcLPuiQxYZrsz_pkqfLG9yMXBpb2zX5dvJdYQJzPXImdj0y%7CMCOPTOUT-1625938880s%7CNONE%7CMCAID%7CNONE%7CMCSYNCSOP%7C411-18826%7CvVersion%7C5.2.0; QSI_HistorySession=https%3A%2F%2Fwww.realtor.com%2F%2Fpropertyrecord-search%2F98006%2F110th-Ave-SE~1625931681460; _ga=GA1.2.423422079.1625931682; _gid=GA1.2.145667913.1625931682; _gat=1; _gcl_au=1.1.1385353512.1625931682; AMCVS_AMCV_8853394255142B6A0A4C98A4%40AdobeOrg=1; AMCV_AMCV_8853394255142B6A0A4C98A4%40AdobeOrg=-1124106680%7CMCMID%7C02366094880149816592795432562425202192%7CMCIDTS%7C18819%7CMCOPTOUT-1625938882s%7CNONE%7CvVersion%7C5.2.0; adcloud={%22_les_v%22:%22y%2Crealtor.com%2C1625933482%22}; _fbp=fb.1.1625931682580.1029353258; _uetsid=47413950e19511ebb7b1bfab6737e05c; _uetvid=47441f10e19511eb9846a38020b5fc67; _ncg_sp_ses.cc72=*; _ncg_id_=781921f9-0621-42bc-8196-badef060a6db; _ncg_sp_id.cc72=781921f9-0621-42bc-8196-badef060a6db.1625931683.1.1625931684.1625931683.5e572dde-fff4-43ae-8280-e74e8c6a3f95; __qca=P0-1194499900-1625931683803; _px3=0e89711af4bc87178605b27fb31ff7303f0a37fed79f556a42bc8b830c53490c:sFVezVwXvrz8jHRJmmh9pdMTzWoCd0/85cIXPv9KVvXc13Z1zYzr89sjdIaxdZvdWVvIlf7mroweCKo/RgWKVg==:1000:3kbiuQ1Eg8D/JSmNt3L0vJ4WvverwItKaelZz0BZXjlxkOkTlDMvq2UEIk4Y7K7MSj+ODx7RT/txPmeBWroaEVKl22Gu5yeL/aNyzE8D9WaGHzkA0gOfCn3Ml0EwkjRiDM0iNKC93CM7Tq3ciGdElj8bibdmfARuJURFLKQ+w1Xlml0y2ihsi8Htm6aNMwryqcKK3B1/uu2g5R/xRPGXWA=='} \n",
    "            res = requests.get(zipcodeUrl + '/pg-%s' % str(i), headers=headers, cookies=cookies)\n",
    "            bs = BeautifulSoup(res.text, 'html.parser')\n",
    "\n",
    "            if bs.find('div', class_='row property-records-street') != None and bs.find('table', class_='address-table') ==None:\n",
    "                break\n",
    "            try:\n",
    "                for j in bs.find('table', class_='address-table').find_all('tr'):\n",
    "                    \n",
    "                    if j.find_all('td')[1].text == 'Off Market': \n",
    "                        url = j.find('td').find('a')['href']\n",
    "                        url = 'https://www.realtor.com' + url\n",
    "                        urls.append(url)  \n",
    "            # 如果錯誤發生，print錯誤訊息在地幾行，以及錯誤的網址，方便去找出報錯原因\n",
    "            except:\n",
    "                print(zipcodeUrlcode)\n",
    "                print(\"Error '%s' happened on line %d\" % (s[1],s[2].tb_lineno))\n",
    "                \n",
    "            if i == 1:\n",
    "                try:\n",
    "                    page = bs.find('div', id = 'ResultsPerPageBottom').find_all('span')[-2].text\n",
    "                except:\n",
    "                    break\n",
    "\n",
    "            time.sleep(int((random.random()+1)*3))\n",
    "    \n",
    "    a = pd.Series(urls)\n",
    "    a.to_csv('realtor_url%s.csv' % zipcode, index=0)"
   ]
  },
  {
   "cell_type": "code",
   "execution_count": 3,
   "id": "9003e1d3-1283-4325-a3fb-dd4bd1e21189",
   "metadata": {},
   "outputs": [],
   "source": [
    "# 點掉反爬蟲機器人 \n",
    "def check_root(): \n",
    "    time.sleep(random.randint(2,4))\n",
    "    m = PyMouse()\n",
    "    x= random.randint(360,540)\n",
    "    y = random.randint(600,650)\n",
    "    mx = random.randint(0,10)\n",
    "    my = random.randint(0,10)\n",
    "    m.press(x,y)\n",
    "    time.sleep(random.randint(3,5))\n",
    "    m.release(x+mx, y+my)\n",
    "    print('check_robot')"
   ]
  },
  {
   "cell_type": "code",
   "execution_count": 4,
   "id": "ac26b17c-093d-469d-a29f-1b6cbd6b1918",
   "metadata": {},
   "outputs": [],
   "source": [
    "# 獲得房間數、廁所數、房屋面積\n",
    "def bed_bath_sqft(bs):\n",
    "    try:\n",
    "        if bs.find(id='ldp-property-meta').find('li', attrs={'data-label':'property-meta-beds'}) != None:\n",
    "            bed = bs.find(id='ldp-property-meta').find('li', attrs={'data-label':'property-meta-beds'}).find('span').text\n",
    "        else:\n",
    "            bed = None\n",
    "\n",
    "        if bs.find(id='ldp-property-meta').find('li', attrs={'data-label':'property-meta-bath'}) != None:\n",
    "            bath = bs.find(id='ldp-property-meta').find('li', attrs={'data-label':'property-meta-bath'}).find('span').text\n",
    "        else:\n",
    "            bath = None\n",
    "\n",
    "        if bs.find(id='ldp-property-meta').find('li', attrs={'data-label':'property-meta-sqft'}) != None:\n",
    "            sqft = bs.find(id='ldp-property-meta').find('li', attrs={'data-label':'property-meta-sqft'}).find('span').text.replace(',','')\n",
    "        else:\n",
    "            sqft = None\n",
    "        return bed, bath, sqft\n",
    "    except:\n",
    "        bed, bath, sqft = None, None, None\n",
    "        return bed, bath, sqft\n"
   ]
  },
  {
   "cell_type": "code",
   "execution_count": 5,
   "id": "c2038ebb-375b-478e-ac9d-bc5e87079404",
   "metadata": {},
   "outputs": [],
   "source": [
    "# 取得地址\n",
    "def address(bs):\n",
    "    address = bs.find('div', id='ldp-address')['content']\n",
    "    return address\n"
   ]
  },
  {
   "cell_type": "code",
   "execution_count": 6,
   "id": "98321b1a-d301-4767-86f2-72b44d68e24f",
   "metadata": {},
   "outputs": [],
   "source": [
    "# 取得國小、國中、高中學校分數\n",
    "def school(bs):\n",
    "    try:\n",
    "        school = []\n",
    "        table = bs.find(id='load-more-schools').find('table').find_all('tr')[1:]\n",
    "        for i in table[:3]:\n",
    "            score = i.find_all('td')[0].text.replace('\\n','')\n",
    "            school.append(score)\n",
    "        return school[0], school[1], school[2]\n",
    "    except AttributeError:\n",
    "        return None, None, None\n"
   ]
  },
  {
   "cell_type": "code",
   "execution_count": 7,
   "id": "d4c382e2-a394-4652-864a-57dd8e10382b",
   "metadata": {},
   "outputs": [],
   "source": [
    "#取得房屋類型、建造年份、土地面積\n",
    "def propertyType_yearbulit_lotSize(bs):  \n",
    "    lotSize, yearBuilt, propertyType = None, None, None\n",
    "    info2 = bs.find('ul', class_='list-default row').find_all('li')\n",
    "    for i in info2:\n",
    "        if re.findall('Lot size:',i.text) != []:\n",
    "            lotSize = i.text.replace('Lot size: ','')\n",
    "        if re.findall('Year built: ',i.text) != []:\n",
    "            yearBuilt = i.text.replace('Year built: ','')\n",
    "        if re.findall('Property type: ',i.text) != []:\n",
    "            propertyType = i.text.replace('Property type: ','')\n",
    "    return propertyType, yearBuilt, lotSize\n"
   ]
  },
  {
   "cell_type": "code",
   "execution_count": 8,
   "id": "5fda0198-78ef-4190-8c7a-43c464f7ed2b",
   "metadata": {},
   "outputs": [],
   "source": [
    "# 取得該房房屋稅\n",
    "def pt_ta(bs):\n",
    "    try:\n",
    "        table = bs.find(id='ldp-history-taxes').find('table').find_all('tr')[2]\n",
    "        year = table.find_all('td')[0].text\n",
    "        tax = table.find_all('td')[1].text.replace('$','').replace(',','')\n",
    "        totalAssessed = table.find_all('td')[6].text.replace('$','').replace(',','')\n",
    "        return tax, totalAssessed\n",
    "    except AttributeError:\n",
    "        return None, None\n",
    "    except IndexError:\n",
    "        return None, None\n",
    "    "
   ]
  },
  {
   "cell_type": "code",
   "execution_count": 9,
   "id": "90a21063-f3e5-4c1d-925a-42d01fee32dc",
   "metadata": {},
   "outputs": [],
   "source": [
    "# 取得前一次售出日期與時間\n",
    "def price_date(bs):\n",
    "    try:\n",
    "        price, date = None, None\n",
    "        table = bs.find(id='ldp-history-price').find('table').find_all('tr')[2:]\n",
    "        for i in table:\n",
    "            if i.find_all('td')[1].text == 'Sold':\n",
    "                date = i.find_all('td')[0].text\n",
    "                price = i.find_all('td')[2].text.replace('$','').replace(',','')         \n",
    "                break\n",
    "        return price, date\n",
    "    except AttributeError:\n",
    "        return None, None\n"
   ]
  },
  {
   "cell_type": "markdown",
   "id": "00c8b4b1-e8a9-41bb-99c1-0c4f95a79932",
   "metadata": {},
   "source": [
    "## 資料爬取"
   ]
  },
  {
   "cell_type": "code",
   "execution_count": null,
   "id": "ae2faf61-0b07-4330-a95a-5aa8f241ac2f",
   "metadata": {},
   "outputs": [],
   "source": [
    "# 取得網址\n",
    "zipcodes = ['98003', '98008', '98019']\n",
    "for zipcode in zipcodes:\n",
    "    get_url(zipcode)\n",
    "    time.sleep(30)"
   ]
  },
  {
   "cell_type": "code",
   "execution_count": 18,
   "id": "259e067f-a567-4500-b885-591b0da001f8",
   "metadata": {},
   "outputs": [
    {
     "name": "stdout",
     "output_type": "stream",
     "text": [
      "8965\n"
     ]
    },
    {
     "data": {
      "text/plain": [
       "['https://www.realtor.com/realestateandhomes-detail/30211-10th-Ave-S_Federal-Way_WA_98003_M25774-15533',\n",
       " 'https://www.realtor.com/realestateandhomes-detail/30318-10th-Ave-S_Federal-Way_WA_98003_M25200-63247',\n",
       " 'https://www.realtor.com/realestateandhomes-detail/32344-10th-Ave-S_Federal-Way_WA_98003_M11099-37623',\n",
       " 'https://www.realtor.com/realestateandhomes-detail/30641-10th-Ave-S_Federal-Way_WA_98003_M15354-75892',\n",
       " 'https://www.realtor.com/realestateandhomes-detail/30467-10th-Ave-S_Federal-Way_WA_98003_M15408-04922']"
      ]
     },
     "execution_count": 18,
     "metadata": {},
     "output_type": "execute_result"
    }
   ],
   "source": [
    "urls = [i for i in pd.read_csv('realtor_url98003.csv')['0']]\n",
    "print(len(urls))\n",
    "urls[:5]"
   ]
  },
  {
   "cell_type": "code",
   "execution_count": 19,
   "id": "2ce63d61-c69e-4990-91a2-27f074ad3eca",
   "metadata": {},
   "outputs": [
    {
     "name": "stderr",
     "output_type": "stream",
     "text": [
      "<ipython-input-19-9d8b8edafd43>:7: DeprecationWarning: use options instead of chrome_options\n",
      "  driver = webdriver.Chrome('./chromedriver', chrome_options=chrom_opt)\n"
     ]
    },
    {
     "name": "stdout",
     "output_type": "stream",
     "text": [
      "check_robot\n",
      "check_robot\n",
      "check_robot\n",
      "check_robot\n",
      "check_robot\n",
      "check_robot\n",
      "robot error\n",
      "https://www.realtor.com/realestateandhomes-detail/30318-10th-Ave-S_Federal-Way_WA_98003_M25200-63247\n",
      "Error ''NoneType' object is not subscriptable' happened on line 39\n",
      "check_robot\n",
      "check_robot\n",
      "check_robot\n",
      "https://www.realtor.com/realestateandhomes-detail/31503-10th-Ave-S_Federal-Way_WA_98003_M19664-49150\n",
      "Error 'Message: chrome not reachable\n",
      "  (Session info: chrome=91.0.4472.114)\n",
      "' happened on line 12\n",
      "internet error\n"
     ]
    }
   ],
   "source": [
    "newTable = []\n",
    "errorUrl = []\n",
    "error = 0\n",
    "chrom_opt = webdriver.ChromeOptions()\n",
    "prefs = { \"profile.managed_default_content_settings.images\": 2 }\n",
    "chrom_opt.add_experimental_option(\"prefs\", prefs)\n",
    "driver = webdriver.Chrome('./chromedriver', chrome_options=chrom_opt)\n",
    "for url in urls:\n",
    "    try:\n",
    "        info3 = []\n",
    "        #time.sleep(random.randint(3,5))\n",
    "        driver.set_window_size(800, 1000)\n",
    "        driver.implicitly_wait(5)\n",
    "        driver.get(url)\n",
    "        time.sleep((random.randint(3,5)))\n",
    "        bs = BeautifulSoup(driver.page_source, 'html.parser')\n",
    "        \n",
    "        if bs.find('div', id='ldp-address') == None:\n",
    "            count = 0\n",
    "            while bs.find('title').text == 'Pardon Our Interruption':\n",
    "                if count == 6:\n",
    "                    print('robot error')\n",
    "                    time.sleep(20)\n",
    "                    break\n",
    "                \n",
    "                time.sleep(1)\n",
    "                ActionChains(driver).send_keys(Keys.PAGE_DOWN).perform() \n",
    "                check_root() \n",
    "                time.sleep(3)     \n",
    "                count += 1\n",
    "                bs = BeautifulSoup(driver.page_source, 'html.parser')    \n",
    "        \n",
    "        bedBathSqft = bed_bath_sqft(bs)\n",
    "        \n",
    "        bed = bedBathSqft[0]\n",
    "        bath = bedBathSqft[1]\n",
    "        sqft = bedBathSqft[2]\n",
    "        \n",
    "        add = address(bs)\n",
    "        \n",
    "        schoolScore = school(bs)\n",
    "        school1 = schoolScore[0]\n",
    "        school2 = schoolScore[1]\n",
    "        school3 = schoolScore[2]\n",
    "        \n",
    "        typeYearLot = propertyType_yearbulit_lotSize(bs)\n",
    "        propertyType = typeYearLot[0]\n",
    "        yearBulit = typeYearLot[1]\n",
    "        lotSize = typeYearLot[2]\n",
    "        \n",
    "        ptta = pt_ta(bs)\n",
    "        pt = ptta[0]\n",
    "        ta = ptta[1]\n",
    "        \n",
    "        priceAndDate = price_date(bs)\n",
    "        price = priceAndDate[0]\n",
    "        date =priceAndDate[1]\n",
    "        \n",
    "        newTable.append([bed, bath, sqft, date, add, school1, school2, school3, propertyType, yearBulit, lotSize, pt, ta, price])\n",
    "        time.sleep(random.randint(3,5))\n",
    "    \n",
    "    except:\n",
    "# 發生錯誤時\n",
    "        error += 1\n",
    "        s=sys.exc_info()\n",
    "        print(url)\n",
    "        errorText = \"Error '%s' happened on line %d\" % (s[1],s[2].tb_lineno)\n",
    "        errorUrl.append([url, errorText])\n",
    "        print(errorText)\n",
    "        if 'chrome not reachable' in errorText or 'HTTPConnectionPool' in errorText:\n",
    "            print('internet error')\n",
    "            break\n",
    "            \n",
    "        time.sleep(random.randint(3,5))"
   ]
  },
  {
   "cell_type": "code",
   "execution_count": 20,
   "id": "503784c6-ade7-43d1-a37b-2ef86812ea61",
   "metadata": {},
   "outputs": [],
   "source": [
    "df1 = pd.DataFrame(newTable, columns = ['bed', 'bath', 'sqft', 'date', 'address', 'school1', 'school2', 'school3', 'propertyType', 'yearBulit', 'lotSize', 'pt', 'ta', 'price'])\n",
    "df2 = pd.DataFrame(errorUrl, columns = ['url', 'error text'])"
   ]
  },
  {
   "cell_type": "code",
   "execution_count": 22,
   "id": "297defca-6dd9-49dd-a1d4-dafedeef41b5",
   "metadata": {},
   "outputs": [],
   "source": [
    "times = time.strftime('%Y-%m-%d %H%M%S', time.localtime())\n",
    "df1.to_csv('Datarealtor%s.csv' % times, index = 0)\n",
    "df2.to_csv('Errorrealtor%s.csv' % times, index = 0)"
   ]
  }
 ],
 "metadata": {
  "kernelspec": {
   "display_name": "Python 3",
   "language": "python",
   "name": "python3"
  },
  "language_info": {
   "codemirror_mode": {
    "name": "ipython",
    "version": 3
   },
   "file_extension": ".py",
   "mimetype": "text/x-python",
   "name": "python",
   "nbconvert_exporter": "python",
   "pygments_lexer": "ipython3",
   "version": "3.8.10"
  }
 },
 "nbformat": 4,
 "nbformat_minor": 5
}
