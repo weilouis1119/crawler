{
 "cells": [
  {
   "cell_type": "code",
   "execution_count": 1,
   "id": "f818d9c0",
   "metadata": {},
   "outputs": [],
   "source": [
    "import requests\n",
    "from bs4 import BeautifulSoup\n",
    "from selenium import webdriver\n",
    "import time\n",
    "import random\n",
    "import pandas as pd\n",
    "from selenium.webdriver.common.action_chains import ActionChains\n",
    "from selenium.webdriver.common.keys import Keys\n",
    "import re\n",
    "from pymouse import PyMouse\n",
    "import sys"
   ]
  },
  {
   "cell_type": "markdown",
   "id": "4fb57593",
   "metadata": {},
   "source": [
    "# 正在出售房屋資料爬蟲\n",
    "url : https://www.realtor.com/realestateandhomes-search/98010/type-single-family-home/pg-1"
   ]
  },
  {
   "cell_type": "code",
   "execution_count": 2,
   "id": "20113221",
   "metadata": {},
   "outputs": [],
   "source": [
    "# 獲得房屋網址\n",
    "urls = [] \n",
    "for zipcode in ['98010', '98029', '98092', '98075', 98106]:\n",
    "    for i in range(1, 3):\n",
    "        url = 'https://www.realtor.com/realestateandhomes-search/%s/type-single-family-home/pg-%s' % (zipcode , str(i))\n",
    "        headers = {'user-agent' : 'Mozilla/5.0 (X11; Linux x86_64) AppleWebKit/537.36 (KHTML, like Gecko) Chrome/91.0.4472.114 Safari/537.36'}\n",
    "        cookies = {'cookie': 'threshold_value=40; automation=false; clstr=; clstr_tcv=; split=n; split_tcv=194; __vst=eddd0c98-d93a-4277-9b4c-16f2a9154a52; __ssn=cc1241c2-0a13-4652-b517-4a6d2a05dadf; __ssnstarttime=1625931673; __edwssnstarttime=1625931673; __split=80; bcc=false; bcvariation=SRPBCRR%3Av1%3Adesktop; header_slugs=; criteria=loc%3D110th+Ave+SE%2C+98006%26locSlug%3D98006%2F110th-Ave-SE%26status%3D8%26pg%3D1%26pgsz%3D44%26sprefix%3Dpropertyrecord-search; _rdc-next_session=SEZzUVpveSs0cDZxY3FBdUZzb1BmNkNCWkhhanNnTUlKck5sUkpnckxTclc4Q2d2RnhNMFZyaU55ZnBpVmtyUlMxY3ZJMDA2RmJsWWh3UGV4SUxOYnR4U1dsd1dnWEE5TWppM3dHUVdzQjhSTlo4YW0zZHZzcmpPcUwyZ3JQbEdxSkRRWTB5SHo3bzJ5d0dxb0lkb2Vzbml1bGdXU1EwV1JnWi80by8wMDJzU3R3VlBOZlM2VnJBTFBiZTFvbmJZcDU0Q1ZNTDF2UFRCQnZlMnJ6c0krRUxpZkhMZDFtb05KSXpYdXUwRDA2bjRqbndXbnZ4aTF6aWkvejRLdXhBcS0tZ08xRnY3czFQUzVHMDRHTGc3TVl4QT09--f37738dae63a1961861fdac9f85db985d2a84e24; AMCVS_8853394255142B6A0A4C98A4%40AdobeOrg=1; s_ecid=MCMID%7C02366094880149816592795432562425202192; userStatus=new_user; pxcts=45823530-e195-11eb-a378-8b717057deba; _pxvid=4581f7f5-e195-11eb-be0c-0242ac120019; _pxff_bdd=2000; _pxff_cde=5,10; ajs_anonymous_id=%22ec20c98f-f1e6-4a13-aaf3-0151435691c1%22; AMCV_8853394255142B6A0A4C98A4%40AdobeOrg=-1124106680%7CMCIDTS%7C18819%7CMCMID%7C02366094880149816592795432562425202192%7CMCAAMLH-1626536479%7C11%7CMCAAMB-1626536479%7C6G1ynYcLPuiQxYZrsz_pkqfLG9yMXBpb2zX5dvJdYQJzPXImdj0y%7CMCOPTOUT-1625938880s%7CNONE%7CMCAID%7CNONE%7CMCSYNCSOP%7C411-18826%7CvVersion%7C5.2.0; QSI_HistorySession=https%3A%2F%2Fwww.realtor.com%2F%2Fpropertyrecord-search%2F98006%2F110th-Ave-SE~1625931681460; _ga=GA1.2.423422079.1625931682; _gid=GA1.2.145667913.1625931682; _gat=1; _gcl_au=1.1.1385353512.1625931682; AMCVS_AMCV_8853394255142B6A0A4C98A4%40AdobeOrg=1; AMCV_AMCV_8853394255142B6A0A4C98A4%40AdobeOrg=-1124106680%7CMCMID%7C02366094880149816592795432562425202192%7CMCIDTS%7C18819%7CMCOPTOUT-1625938882s%7CNONE%7CvVersion%7C5.2.0; adcloud={%22_les_v%22:%22y%2Crealtor.com%2C1625933482%22}; _fbp=fb.1.1625931682580.1029353258; _uetsid=47413950e19511ebb7b1bfab6737e05c; _uetvid=47441f10e19511eb9846a38020b5fc67; _ncg_sp_ses.cc72=*; _ncg_id_=781921f9-0621-42bc-8196-badef060a6db; _ncg_sp_id.cc72=781921f9-0621-42bc-8196-badef060a6db.1625931683.1.1625931684.1625931683.5e572dde-fff4-43ae-8280-e74e8c6a3f95; __qca=P0-1194499900-1625931683803; _px3=0e89711af4bc87178605b27fb31ff7303f0a37fed79f556a42bc8b830c53490c:sFVezVwXvrz8jHRJmmh9pdMTzWoCd0/85cIXPv9KVvXc13Z1zYzr89sjdIaxdZvdWVvIlf7mroweCKo/RgWKVg==:1000:3kbiuQ1Eg8D/JSmNt3L0vJ4WvverwItKaelZz0BZXjlxkOkTlDMvq2UEIk4Y7K7MSj+ODx7RT/txPmeBWroaEVKl22Gu5yeL/aNyzE8D9WaGHzkA0gOfCn3Ml0EwkjRiDM0iNKC93CM7Tq3ciGdElj8bibdmfARuJURFLKQ+w1Xlml0y2ihsi8Htm6aNMwryqcKK3B1/uu2g5R/xRPGXWA=='} \n",
    "\n",
    "        res = requests.get(url, headers=headers, cookies=cookies)\n",
    "        bs = BeautifulSoup(res.text, 'html.parser')\n",
    "        for i in bs.find('ul', attrs={'data-testid' : \"property-list-container\"}).find_all('li', attrs={\"data-testid\" : \"result-card\"}):\n",
    "            url = i.find('div', attrs={'data-testid' : \"pc-photo-wrap\"}).find('a')['href']\n",
    "            urls.append('https://www.realtor.com/' + url)\n",
    "        time.sleep(random.randint(100,150))"
   ]
  },
  {
   "cell_type": "code",
   "execution_count": 3,
   "id": "c2995cd8",
   "metadata": {},
   "outputs": [
    {
     "data": {
      "text/plain": [
       "321"
      ]
     },
     "execution_count": 3,
     "metadata": {},
     "output_type": "execute_result"
    }
   ],
   "source": [
    "len(urls)"
   ]
  },
  {
   "cell_type": "code",
   "execution_count": 4,
   "id": "2f4d491b",
   "metadata": {},
   "outputs": [],
   "source": [
    "# 點掉反爬蟲機器人\n",
    "def check_root(): \n",
    "    time.sleep(random.randint(2,4))\n",
    "    m = PyMouse()\n",
    "    x= random.randint(360,540)\n",
    "    y = random.randint(540,590)\n",
    "    mx = random.randint(0,10)\n",
    "    my = random.randint(0,10)\n",
    "    m.press(x,y)\n",
    "    time.sleep(random.randint(3,5))\n",
    "    m.release(x+mx, y+my)\n",
    "    print('check_robot')"
   ]
  },
  {
   "cell_type": "code",
   "execution_count": 5,
   "id": "627238c7",
   "metadata": {},
   "outputs": [],
   "source": [
    "# 爬取房間數、廁所數、房屋面積、土地面積\n",
    "def bed_bath_sqft_lot(bs):\n",
    "    div = bs.find('div' ,id = 'ldp-property-meta').find('ul')\n",
    "    bed = div.find('li', attrs={'data-label':\"property-meta-beds\"})\n",
    "    bath = div.find('li', attrs={'data-label':\"property-meta-bath\"})\n",
    "    sqft = div.find('li', attrs={'data-label':\"property-meta-sqft\"})\n",
    "    lot = div.find('li', attrs={'data-label':\"property-meta-lotsize\"})\n",
    "    if bed:\n",
    "        bed = bed.find('span').text\n",
    "    if bath:\n",
    "        bath = bath.find('span').text\n",
    "    if sqft:\n",
    "        sqft = sqft.text.replace(',','').replace('\\n','').replace(' ','')\n",
    "    if lot:\n",
    "        lot = lot.text.replace(',','').replace('\\n','').replace(' ','')\n",
    "    return bed, bath, sqft, lot"
   ]
  },
  {
   "cell_type": "code",
   "execution_count": 6,
   "id": "c7c3619c",
   "metadata": {},
   "outputs": [],
   "source": [
    "# 爬取地址\n",
    "def address(bs):\n",
    "    address = bs.find('div', id='ldp-address')['content']\n",
    "    return address\n"
   ]
  },
  {
   "cell_type": "code",
   "execution_count": 7,
   "id": "5a18ee2c",
   "metadata": {},
   "outputs": [],
   "source": [
    "# 爬取國小、國中、高中學校分數\n",
    "def school(bs):\n",
    "    try:\n",
    "        school = []\n",
    "        table = bs.find(id='load-more-schools').find('table').find_all('tr')[1:]\n",
    "        for i in table[:3]:\n",
    "            score = i.find_all('td')[0].text.replace('\\n','')\n",
    "            school.append(score)\n",
    "        return school[0], school[1], school[2]\n",
    "    except AttributeError:\n",
    "        return None, None, None"
   ]
  },
  {
   "cell_type": "code",
   "execution_count": 8,
   "id": "6f3c376e",
   "metadata": {},
   "outputs": [],
   "source": [
    "# 爬取房屋型態、建造年份\n",
    "def property_year(bs):\n",
    "    houseyear = bs.find('div', id='key-fact-carousel').find('ul').find('li', attrs={'data-label':\"property-year\"}).find('div', class_=\"key-fact-data ellipsis\").text\n",
    "    propertyType = bs.find('div', id='key-fact-carousel').find('ul').find('li', attrs={'data-label':\"property-type\"}).find('div', class_=\"key-fact-data ellipsis\").text\n",
    "    return houseyear, propertyType"
   ]
  },
  {
   "cell_type": "code",
   "execution_count": 9,
   "id": "72f76036",
   "metadata": {},
   "outputs": [],
   "source": [
    "# 爬取該房房屋稅\n",
    "def pt_ta(bs):\n",
    "    try:\n",
    "        table = bs.find(id='ldp-history-taxes').find('table').find_all('tr')[2]\n",
    "        year = table.find_all('td')[0].text\n",
    "        tax = table.find_all('td')[1].text.replace('$','').replace(',','')\n",
    "        totalAssessed = table.find_all('td')[6].text.replace('$','').replace(',','')\n",
    "        return tax, totalAssessed\n",
    "    except AttributeError:\n",
    "        return None, None"
   ]
  },
  {
   "cell_type": "code",
   "execution_count": 10,
   "id": "d1ffd017",
   "metadata": {},
   "outputs": [],
   "source": [
    "# 爬取賣家出價及日期\n",
    "def price_date(bs):\n",
    "    try:\n",
    "        price, date = None, None\n",
    "        table = bs.find(id='ldp-history-price').find('table').find('tbody').find('tr')\n",
    "        date = table.find('td').text\n",
    "        price = table.find_all('td')[2].text.replace('$','').replace(',','')\n",
    "        return price, date\n",
    "    except AttributeError:\n",
    "        return None, None"
   ]
  },
  {
   "cell_type": "code",
   "execution_count": 16,
   "id": "dd96442d",
   "metadata": {},
   "outputs": [],
   "source": [
    "newTable = []\n",
    "errorUrl = []\n",
    "error = 0\n",
    "chrom_opt = webdriver.ChromeOptions()\n",
    "prefs = { \"profile.managed_default_content_settings.images\": 2 }\n",
    "chrom_opt.add_experimental_option(\"prefs\", prefs)\n",
    "driver = webdriver.Chrome('./chromedriver', chrome_options=chrom_opt)\n",
    "for url in urls[:]:\n",
    "    try:\n",
    "        info3 = []\n",
    "        driver.set_window_size(800, 1000)\n",
    "        driver.implicitly_wait(5)\n",
    "        driver.get(url)\n",
    "        time.sleep((random.randint(3,5)))\n",
    "        bs = BeautifulSoup(driver.page_source, 'html.parser')\n",
    "        \n",
    "        if bs.find('div', id='ldp-address') == None:\n",
    "            count = 0\n",
    "            while bs.find('title').text == 'Pardon Our Interruption':\n",
    "                if count == 6:\n",
    "                    print('robot error')\n",
    "                    time.sleep(20)\n",
    "                    break\n",
    "                \n",
    "                time.sleep(1)\n",
    "                ActionChains(driver).send_keys(Keys.PAGE_DOWN).perform() \n",
    "                check_root() \n",
    "                time.sleep(3)     \n",
    "                count += 1\n",
    "                bs = BeautifulSoup(driver.page_source, 'html.parser')    \n",
    "        \n",
    "        bedBathSqft = bed_bath_sqft_lot(bs)     \n",
    "        bed = bedBathSqft[0]\n",
    "        bath = bedBathSqft[1]\n",
    "        sqft = bedBathSqft[2]\n",
    "        lot = bedBathSqft[3]\n",
    "        \n",
    "        add = address(bs)\n",
    "        \n",
    "        schoolScore = school(bs)\n",
    "        school1 = schoolScore[0]\n",
    "        school2 = schoolScore[1]\n",
    "        school3 = schoolScore[2]\n",
    "        \n",
    "        typeYearLot = property_year(bs)\n",
    "        yearBulit = typeYearLot[0]\n",
    "        PropertyType = typeYearLot[1]\n",
    "        \n",
    "        ptta = pt_ta(bs)\n",
    "        pt = ptta[0]\n",
    "        ta = ptta[1]\n",
    "        \n",
    "        priceAndDate = price_date(bs)\n",
    "        price = priceAndDate[0]\n",
    "        date =priceAndDate[1]\n",
    "        \n",
    "        newTable.append([bed, bath, sqft, date, add, school1, school2, school3, PropertyType, yearBulit, lot, pt, ta, price])\n",
    "        time.sleep(random.randint(3,5))\n",
    "# 發生錯誤時儲存報錯網址即報錯原因 方便知道問題在哪   \n",
    "    except:\n",
    "        error += 1\n",
    "        s=sys.exc_info()\n",
    "        print(url)\n",
    "        errorText = \"Error '%s' happened on line %d\" % (s[1],s[2].tb_lineno)\n",
    "        errorUrl.append([url, errorText])\n",
    "        print(errorText)\n",
    "        if 'chrome not reachable' in errorText or 'HTTPConnectionPool' in errorText:\n",
    "            print('internet error')\n",
    "            break\n",
    "            \n",
    "        time.sleep(random.randint(3,5))"
   ]
  },
  {
   "cell_type": "markdown",
   "id": "d06df74c",
   "metadata": {},
   "source": [
    "# 資料清洗"
   ]
  },
  {
   "cell_type": "code",
   "execution_count": 15,
   "id": "6881c7ca",
   "metadata": {},
   "outputs": [],
   "source": [
    "df = pd.DataFrame(newTable, columns=['bed', 'bath', 'sqft', 'date', 'address', 'school1', 'school2', 'school3',\n",
    "                                     'PropertyType', 'yearBulit', 'lot', 'pt', 'ta', 'price'])"
   ]
  },
  {
   "cell_type": "code",
   "execution_count": 17,
   "id": "7427574e-3272-4fb8-904b-01f10f95e42c",
   "metadata": {},
   "outputs": [],
   "source": [
    "df.dropna(inplace=True)\n",
    "df.reset_index(inplace=True, drop=True)"
   ]
  },
  {
   "cell_type": "code",
   "execution_count": 19,
   "id": "4136a1f6-d207-4c33-8f2b-c1f5221d6296",
   "metadata": {},
   "outputs": [],
   "source": [
    "df['bed'] = df['bed'].str.replace('+','')\n",
    "df['bath'] = df['bath'].str.replace('+','')\n",
    "df['sqft'] = df['sqft'].str.replace('sqft','')\n",
    "df['school1'] = df['school1'].str.replace('NR', '0')\n",
    "df['school2'] = df['school2'].str.replace('NR', '0')\n",
    "df['school3'] = df['school3'].str.replace('NR', '0')"
   ]
  },
  {
   "cell_type": "code",
   "execution_count": 20,
   "id": "3ac2627b-ea4f-48cd-8e7f-69163d74875c",
   "metadata": {},
   "outputs": [],
   "source": [
    "for i in range(len(df)):\n",
    "    lot = df.iloc[i, 10]\n",
    "    if 'sqft' in lot:\n",
    "        df.iloc[i, 10] = int(df.iloc[i, 10].replace('sqftlot', ''))\n",
    "    if 'acres' in lot:\n",
    "        df.iloc[i,10] = int(float(df.iloc[i, 10].replace('acreslot', '')) * 43560)"
   ]
  },
  {
   "cell_type": "code",
   "execution_count": 21,
   "id": "863e39d2-00a1-4dde-a743-ea5ff3f77199",
   "metadata": {},
   "outputs": [],
   "source": [
    "df.iloc[:, 0:2] = df.iloc[:, 0:2].astype(float)\n",
    "df.iloc[:, 2] = df.iloc[:, 2].astype(int)\n",
    "df.iloc[:, 5:8] = df.iloc[:, 5:8].astype(int)\n",
    "df.iloc[:, 9:] = df.iloc[:, 9:].astype(int)"
   ]
  },
  {
   "cell_type": "code",
   "execution_count": 22,
   "id": "c295af73-9526-442d-a0e6-f7d8b62ed7d0",
   "metadata": {},
   "outputs": [],
   "source": [
    "df['yearBulit'] = df['date'].str.replace('[0-9]{1,2}/[0-9]{1,2}/',  '').astype(int) - df['yearBulit']"
   ]
  },
  {
   "cell_type": "code",
   "execution_count": 23,
   "id": "5c7d293c",
   "metadata": {},
   "outputs": [
    {
     "data": {
      "text/html": [
       "<div>\n",
       "<style scoped>\n",
       "    .dataframe tbody tr th:only-of-type {\n",
       "        vertical-align: middle;\n",
       "    }\n",
       "\n",
       "    .dataframe tbody tr th {\n",
       "        vertical-align: top;\n",
       "    }\n",
       "\n",
       "    .dataframe thead th {\n",
       "        text-align: right;\n",
       "    }\n",
       "</style>\n",
       "<table border=\"1\" class=\"dataframe\">\n",
       "  <thead>\n",
       "    <tr style=\"text-align: right;\">\n",
       "      <th></th>\n",
       "      <th>bed</th>\n",
       "      <th>bath</th>\n",
       "      <th>sqft</th>\n",
       "      <th>date</th>\n",
       "      <th>address</th>\n",
       "      <th>school1</th>\n",
       "      <th>school2</th>\n",
       "      <th>school3</th>\n",
       "      <th>PropertyType</th>\n",
       "      <th>yearBulit</th>\n",
       "      <th>lot</th>\n",
       "      <th>pt</th>\n",
       "      <th>ta</th>\n",
       "      <th>price</th>\n",
       "    </tr>\n",
       "  </thead>\n",
       "  <tbody>\n",
       "    <tr>\n",
       "      <th>0</th>\n",
       "      <td>3.0</td>\n",
       "      <td>1.0</td>\n",
       "      <td>1040</td>\n",
       "      <td>08/05/2021</td>\n",
       "      <td>21729 Se 288th St, Black Diamond, WA 98010</td>\n",
       "      <td>7</td>\n",
       "      <td>3</td>\n",
       "      <td>4</td>\n",
       "      <td>Single Family Home</td>\n",
       "      <td>47</td>\n",
       "      <td>14810</td>\n",
       "      <td>3237</td>\n",
       "      <td>260000</td>\n",
       "      <td>369888</td>\n",
       "    </tr>\n",
       "    <tr>\n",
       "      <th>1</th>\n",
       "      <td>1.0</td>\n",
       "      <td>1.0</td>\n",
       "      <td>400</td>\n",
       "      <td>06/11/2021</td>\n",
       "      <td>31019 229th Ave Se, Black Diamond, WA 98010</td>\n",
       "      <td>7</td>\n",
       "      <td>3</td>\n",
       "      <td>4</td>\n",
       "      <td>Single Family Home</td>\n",
       "      <td>41</td>\n",
       "      <td>17424</td>\n",
       "      <td>2047</td>\n",
       "      <td>156000</td>\n",
       "      <td>250000</td>\n",
       "    </tr>\n",
       "    <tr>\n",
       "      <th>2</th>\n",
       "      <td>3.0</td>\n",
       "      <td>1.0</td>\n",
       "      <td>2983</td>\n",
       "      <td>06/12/2021</td>\n",
       "      <td>29630 232nd Ave Se, Black Diamond, WA 98010</td>\n",
       "      <td>9</td>\n",
       "      <td>0</td>\n",
       "      <td>7</td>\n",
       "      <td>Single Family Home</td>\n",
       "      <td>40</td>\n",
       "      <td>51836</td>\n",
       "      <td>5150</td>\n",
       "      <td>463000</td>\n",
       "      <td>899000</td>\n",
       "    </tr>\n",
       "    <tr>\n",
       "      <th>3</th>\n",
       "      <td>4.0</td>\n",
       "      <td>1.0</td>\n",
       "      <td>1540</td>\n",
       "      <td>08/06/2021</td>\n",
       "      <td>32330 2nd Ave, Black Diamond, WA 98010</td>\n",
       "      <td>4</td>\n",
       "      <td>5</td>\n",
       "      <td>5</td>\n",
       "      <td>Single Family Home</td>\n",
       "      <td>29</td>\n",
       "      <td>5940</td>\n",
       "      <td>3136</td>\n",
       "      <td>285000</td>\n",
       "      <td>499950</td>\n",
       "    </tr>\n",
       "    <tr>\n",
       "      <th>4</th>\n",
       "      <td>3.0</td>\n",
       "      <td>2.0</td>\n",
       "      <td>2020</td>\n",
       "      <td>07/16/2021</td>\n",
       "      <td>29620 232nd Ave Se, Black Diamond, WA 98010</td>\n",
       "      <td>9</td>\n",
       "      <td>0</td>\n",
       "      <td>7</td>\n",
       "      <td>Single Family Home</td>\n",
       "      <td>32</td>\n",
       "      <td>61419</td>\n",
       "      <td>4974</td>\n",
       "      <td>446000</td>\n",
       "      <td>735000</td>\n",
       "    </tr>\n",
       "  </tbody>\n",
       "</table>\n",
       "</div>"
      ],
      "text/plain": [
       "   bed  bath  sqft        date                                      address  \\\n",
       "0  3.0   1.0  1040  08/05/2021   21729 Se 288th St, Black Diamond, WA 98010   \n",
       "1  1.0   1.0   400  06/11/2021  31019 229th Ave Se, Black Diamond, WA 98010   \n",
       "2  3.0   1.0  2983  06/12/2021  29630 232nd Ave Se, Black Diamond, WA 98010   \n",
       "3  4.0   1.0  1540  08/06/2021       32330 2nd Ave, Black Diamond, WA 98010   \n",
       "4  3.0   2.0  2020  07/16/2021  29620 232nd Ave Se, Black Diamond, WA 98010   \n",
       "\n",
       "   school1  school2  school3        PropertyType  yearBulit    lot    pt  \\\n",
       "0        7        3        4  Single Family Home         47  14810  3237   \n",
       "1        7        3        4  Single Family Home         41  17424  2047   \n",
       "2        9        0        7  Single Family Home         40  51836  5150   \n",
       "3        4        5        5  Single Family Home         29   5940  3136   \n",
       "4        9        0        7  Single Family Home         32  61419  4974   \n",
       "\n",
       "       ta   price  \n",
       "0  260000  369888  \n",
       "1  156000  250000  \n",
       "2  463000  899000  \n",
       "3  285000  499950  \n",
       "4  446000  735000  "
      ]
     },
     "execution_count": 23,
     "metadata": {},
     "output_type": "execute_result"
    }
   ],
   "source": [
    "df.head()"
   ]
  },
  {
   "cell_type": "code",
   "execution_count": 24,
   "id": "d1671252-95a0-464e-aec3-bc1bed7621f7",
   "metadata": {},
   "outputs": [],
   "source": [
    "df.to_csv('DemoData.csv', index=0)"
   ]
  }
 ],
 "metadata": {
  "kernelspec": {
   "display_name": "Python 3",
   "language": "python",
   "name": "python3"
  },
  "language_info": {
   "codemirror_mode": {
    "name": "ipython",
    "version": 3
   },
   "file_extension": ".py",
   "mimetype": "text/x-python",
   "name": "python",
   "nbconvert_exporter": "python",
   "pygments_lexer": "ipython3",
   "version": "3.8.8"
  }
 },
 "nbformat": 4,
 "nbformat_minor": 5
}
